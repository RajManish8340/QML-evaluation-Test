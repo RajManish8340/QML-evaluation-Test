{
  "nbformat": 4,
  "nbformat_minor": 0,
  "metadata": {
    "colab": {
      "provenance": [],
      "gpuType": "T4"
    },
    "kernelspec": {
      "name": "python3",
      "display_name": "Python 3"
    },
    "language_info": {
      "name": "python"
    },
    "accelerator": "GPU"
  },
  "cells": [
    {
      "cell_type": "markdown",
      "source": [
        "#Task II: Classical Graph Neural Network (GNN)\n",
        "For Task II, you will use ParticleNet’s data for Quark/Gluon jet classification available here with its corresponding description.\n",
        "● Choose 2 Graph-based architectures of your choice to classify jets as being quarks or gluons. Provide a description on what considerations you have taken to project this point-cloud dataset to a set of interconnected nodes and edges.\n",
        "● Discuss the resulting performance of the 2 chosen architectures.\n"
      ],
      "metadata": {
        "id": "iCRjrAzUzVwe"
      }
    },
    {
      "cell_type": "markdown",
      "source": [
        "# We will use Pytorch Geometric Library"
      ],
      "metadata": {
        "id": "I9nR7cv5zaNe"
      }
    },
    {
      "cell_type": "code",
      "execution_count": null,
      "metadata": {
        "colab": {
          "base_uri": "https://localhost:8080/"
        },
        "id": "1gUrDEoIpEgZ",
        "outputId": "f22cad2f-6202-4bc9-cedd-5d8ca632233f"
      },
      "outputs": [
        {
          "output_type": "stream",
          "name": "stdout",
          "text": [
            "Collecting torch_geometric\n",
            "  Downloading torch_geometric-2.6.1-py3-none-any.whl.metadata (63 kB)\n",
            "\u001b[?25l     \u001b[90m━━━━━━━━━━━━━━━━━━━━━━━━━━━━━━━━━━━━━━━━\u001b[0m \u001b[32m0.0/63.1 kB\u001b[0m \u001b[31m?\u001b[0m eta \u001b[36m-:--:--\u001b[0m\r\u001b[2K     \u001b[91m━━━━━━━━━━━━━━━━━━━━━━━━━━━━━━━━━━━━━━\u001b[0m\u001b[91m╸\u001b[0m\u001b[90m━\u001b[0m \u001b[32m61.4/63.1 kB\u001b[0m \u001b[31m6.0 MB/s\u001b[0m eta \u001b[36m0:00:01\u001b[0m\r\u001b[2K     \u001b[90m━━━━━━━━━━━━━━━━━━━━━━━━━━━━━━━━━━━━━━━━\u001b[0m \u001b[32m63.1/63.1 kB\u001b[0m \u001b[31m1.5 MB/s\u001b[0m eta \u001b[36m0:00:00\u001b[0m\n",
            "\u001b[?25hRequirement already satisfied: aiohttp in /usr/local/lib/python3.11/dist-packages (from torch_geometric) (3.11.14)\n",
            "Requirement already satisfied: fsspec in /usr/local/lib/python3.11/dist-packages (from torch_geometric) (2025.3.0)\n",
            "Requirement already satisfied: jinja2 in /usr/local/lib/python3.11/dist-packages (from torch_geometric) (3.1.6)\n",
            "Requirement already satisfied: numpy in /usr/local/lib/python3.11/dist-packages (from torch_geometric) (2.0.2)\n",
            "Requirement already satisfied: psutil>=5.8.0 in /usr/local/lib/python3.11/dist-packages (from torch_geometric) (5.9.5)\n",
            "Requirement already satisfied: pyparsing in /usr/local/lib/python3.11/dist-packages (from torch_geometric) (3.2.1)\n",
            "Requirement already satisfied: requests in /usr/local/lib/python3.11/dist-packages (from torch_geometric) (2.32.3)\n",
            "Requirement already satisfied: tqdm in /usr/local/lib/python3.11/dist-packages (from torch_geometric) (4.67.1)\n",
            "Requirement already satisfied: aiohappyeyeballs>=2.3.0 in /usr/local/lib/python3.11/dist-packages (from aiohttp->torch_geometric) (2.6.1)\n",
            "Requirement already satisfied: aiosignal>=1.1.2 in /usr/local/lib/python3.11/dist-packages (from aiohttp->torch_geometric) (1.3.2)\n",
            "Requirement already satisfied: attrs>=17.3.0 in /usr/local/lib/python3.11/dist-packages (from aiohttp->torch_geometric) (25.3.0)\n",
            "Requirement already satisfied: frozenlist>=1.1.1 in /usr/local/lib/python3.11/dist-packages (from aiohttp->torch_geometric) (1.5.0)\n",
            "Requirement already satisfied: multidict<7.0,>=4.5 in /usr/local/lib/python3.11/dist-packages (from aiohttp->torch_geometric) (6.2.0)\n",
            "Requirement already satisfied: propcache>=0.2.0 in /usr/local/lib/python3.11/dist-packages (from aiohttp->torch_geometric) (0.3.0)\n",
            "Requirement already satisfied: yarl<2.0,>=1.17.0 in /usr/local/lib/python3.11/dist-packages (from aiohttp->torch_geometric) (1.18.3)\n",
            "Requirement already satisfied: MarkupSafe>=2.0 in /usr/local/lib/python3.11/dist-packages (from jinja2->torch_geometric) (3.0.2)\n",
            "Requirement already satisfied: charset-normalizer<4,>=2 in /usr/local/lib/python3.11/dist-packages (from requests->torch_geometric) (3.4.1)\n",
            "Requirement already satisfied: idna<4,>=2.5 in /usr/local/lib/python3.11/dist-packages (from requests->torch_geometric) (3.10)\n",
            "Requirement already satisfied: urllib3<3,>=1.21.1 in /usr/local/lib/python3.11/dist-packages (from requests->torch_geometric) (2.3.0)\n",
            "Requirement already satisfied: certifi>=2017.4.17 in /usr/local/lib/python3.11/dist-packages (from requests->torch_geometric) (2025.1.31)\n",
            "Downloading torch_geometric-2.6.1-py3-none-any.whl (1.1 MB)\n",
            "\u001b[2K   \u001b[90m━━━━━━━━━━━━━━━━━━━━━━━━━━━━━━━━━━━━━━━━\u001b[0m \u001b[32m1.1/1.1 MB\u001b[0m \u001b[31m23.8 MB/s\u001b[0m eta \u001b[36m0:00:00\u001b[0m\n",
            "\u001b[?25hInstalling collected packages: torch_geometric\n",
            "Successfully installed torch_geometric-2.6.1\n"
          ]
        }
      ],
      "source": [
        "!pip install torch_geometric"
      ]
    },
    {
      "cell_type": "code",
      "source": [
        "import numpy as np\n",
        "\n",
        "import torch\n",
        "from torch_geometric.data import Data\n",
        "from torch_geometric.utils import to_networkx\n",
        "from torch.nn import Sequential, Linear, ReLU, Sigmoid, Tanh, BCEWithLogitsLoss, Dropout, ModuleList\n",
        "from torch_geometric.nn import GCNConv, SAGEConv, global_mean_pool\n",
        "from torch.optim import Adam\n",
        "from torch_geometric.loader import DataLoader\n",
        "from tqdm import tqdm\n",
        "\n",
        "import networkx as nx\n",
        "import os\n",
        "import matplotlib.pyplot as plt\n",
        "import copy"
      ],
      "metadata": {
        "id": "JLXNZTtOpImL"
      },
      "execution_count": null,
      "outputs": []
    },
    {
      "cell_type": "markdown",
      "source": [
        "energyflow: A library designed for energy flow analysis in particle physics, used in jet physics.\n",
        "\n",
        "particle: Provides access to the particle data table from the Particle Data Group (PDG) for easy particle identification."
      ],
      "metadata": {
        "id": "RWFt8qwqz0Eo"
      }
    },
    {
      "cell_type": "code",
      "source": [
        "!pip install energyflow\n",
        "!pip install particle"
      ],
      "metadata": {
        "colab": {
          "base_uri": "https://localhost:8080/"
        },
        "id": "4VgqLZ6npwbn",
        "outputId": "d53313ec-fa73-44b1-849f-e70d50c548a9"
      },
      "execution_count": null,
      "outputs": [
        {
          "output_type": "stream",
          "name": "stdout",
          "text": [
            "Collecting energyflow\n",
            "  Downloading energyflow-1.4.0-py3-none-any.whl.metadata (5.6 kB)\n",
            "Requirement already satisfied: h5py!=3.11.0,>=2.9.0 in /usr/local/lib/python3.11/dist-packages (from energyflow) (3.13.0)\n",
            "Requirement already satisfied: numpy>=1.17.0 in /usr/local/lib/python3.11/dist-packages (from energyflow) (2.0.2)\n",
            "Collecting wasserstein>=1.0.1 (from energyflow)\n",
            "  Downloading wasserstein-1.1.0-cp311-cp311-manylinux_2_17_x86_64.manylinux2014_x86_64.whl.metadata (3.0 kB)\n",
            "Collecting numpy>=1.17.0 (from energyflow)\n",
            "  Downloading numpy-1.26.4-cp311-cp311-manylinux_2_17_x86_64.manylinux2014_x86_64.whl.metadata (61 kB)\n",
            "\u001b[2K     \u001b[90m━━━━━━━━━━━━━━━━━━━━━━━━━━━━━━━━━━━━━━━━\u001b[0m \u001b[32m61.0/61.0 kB\u001b[0m \u001b[31m5.1 MB/s\u001b[0m eta \u001b[36m0:00:00\u001b[0m\n",
            "\u001b[?25hCollecting wurlitzer>=2.0.0 (from wasserstein>=1.0.1->energyflow)\n",
            "  Downloading wurlitzer-3.1.1-py3-none-any.whl.metadata (2.5 kB)\n",
            "Downloading energyflow-1.4.0-py3-none-any.whl (700 kB)\n",
            "\u001b[2K   \u001b[90m━━━━━━━━━━━━━━━━━━━━━━━━━━━━━━━━━━━━━━━━\u001b[0m \u001b[32m700.8/700.8 kB\u001b[0m \u001b[31m26.7 MB/s\u001b[0m eta \u001b[36m0:00:00\u001b[0m\n",
            "\u001b[?25hDownloading wasserstein-1.1.0-cp311-cp311-manylinux_2_17_x86_64.manylinux2014_x86_64.whl (502 kB)\n",
            "\u001b[2K   \u001b[90m━━━━━━━━━━━━━━━━━━━━━━━━━━━━━━━━━━━━━━━━\u001b[0m \u001b[32m502.2/502.2 kB\u001b[0m \u001b[31m33.5 MB/s\u001b[0m eta \u001b[36m0:00:00\u001b[0m\n",
            "\u001b[?25hDownloading numpy-1.26.4-cp311-cp311-manylinux_2_17_x86_64.manylinux2014_x86_64.whl (18.3 MB)\n",
            "\u001b[2K   \u001b[90m━━━━━━━━━━━━━━━━━━━━━━━━━━━━━━━━━━━━━━━━\u001b[0m \u001b[32m18.3/18.3 MB\u001b[0m \u001b[31m62.7 MB/s\u001b[0m eta \u001b[36m0:00:00\u001b[0m\n",
            "\u001b[?25hDownloading wurlitzer-3.1.1-py3-none-any.whl (8.6 kB)\n",
            "Installing collected packages: wurlitzer, numpy, wasserstein, energyflow\n",
            "  Attempting uninstall: numpy\n",
            "    Found existing installation: numpy 2.0.2\n",
            "    Uninstalling numpy-2.0.2:\n",
            "      Successfully uninstalled numpy-2.0.2\n",
            "Successfully installed energyflow-1.4.0 numpy-1.26.4 wasserstein-1.1.0 wurlitzer-3.1.1\n",
            "Collecting particle\n",
            "  Downloading particle-0.25.2-py3-none-any.whl.metadata (24 kB)\n",
            "Requirement already satisfied: attrs>=19.2 in /usr/local/lib/python3.11/dist-packages (from particle) (25.3.0)\n",
            "Collecting hepunits>=2.0.0 (from particle)\n",
            "  Downloading hepunits-2.3.5-py3-none-any.whl.metadata (7.3 kB)\n",
            "Requirement already satisfied: typing-extensions>=4.5 in /usr/local/lib/python3.11/dist-packages (from particle) (4.12.2)\n",
            "Downloading particle-0.25.2-py3-none-any.whl (290 kB)\n",
            "\u001b[2K   \u001b[90m━━━━━━━━━━━━━━━━━━━━━━━━━━━━━━━━━━━━━━━━\u001b[0m \u001b[32m290.5/290.5 kB\u001b[0m \u001b[31m8.6 MB/s\u001b[0m eta \u001b[36m0:00:00\u001b[0m\n",
            "\u001b[?25hDownloading hepunits-2.3.5-py3-none-any.whl (14 kB)\n",
            "Installing collected packages: hepunits, particle\n",
            "Successfully installed hepunits-2.3.5 particle-0.25.2\n"
          ]
        }
      ]
    },
    {
      "cell_type": "code",
      "source": [
        "import energyflow\n",
        "from particle import Particle"
      ],
      "metadata": {
        "id": "tHry4szJqE0s"
      },
      "execution_count": null,
      "outputs": []
    },
    {
      "cell_type": "markdown",
      "source": [
        "# Loading Dataset"
      ],
      "metadata": {
        "id": "eHME-7MA0Lnn"
      }
    },
    {
      "cell_type": "code",
      "source": [
        "energyflow.qg_jets.load(num_data=100000, pad=True, ncol=4, generator='pythia', with_bc=False, cache_dir='~/data')\n",
        "dataset = np.load(os.path.expanduser('~/data/datasets/QG_jets.npz'))"
      ],
      "metadata": {
        "colab": {
          "base_uri": "https://localhost:8080/"
        },
        "id": "t7zzFAOYpWEi",
        "outputId": "06e0d79b-a3f1-46c7-a472-c037488295bd"
      },
      "execution_count": null,
      "outputs": [
        {
          "output_type": "stream",
          "name": "stdout",
          "text": [
            "Downloading QG_jets.npz from https://zenodo.org/record/3164691/files/QG_jets.npz?download=1 to /root/data/datasets\n"
          ]
        }
      ]
    },
    {
      "cell_type": "code",
      "source": [
        "dataset.files"
      ],
      "metadata": {
        "colab": {
          "base_uri": "https://localhost:8080/"
        },
        "id": "t1QUTachqGfh",
        "outputId": "34215159-f044-43e7-b534-b6d7692b480b"
      },
      "execution_count": null,
      "outputs": [
        {
          "output_type": "execute_result",
          "data": {
            "text/plain": [
              "['X', 'y']"
            ]
          },
          "metadata": {},
          "execution_count": 6
        }
      ]
    },
    {
      "cell_type": "markdown",
      "source": [
        "Shape of dataset"
      ],
      "metadata": {
        "id": "kC31n6sL0akI"
      }
    },
    {
      "cell_type": "code",
      "source": [
        "X = dataset['X']\n",
        "y = dataset['y']\n",
        "X.shape, y.shape"
      ],
      "metadata": {
        "colab": {
          "base_uri": "https://localhost:8080/"
        },
        "id": "_Fr2oHphqPcm",
        "outputId": "26b178bc-87f0-480c-cd37-42a46f56440d"
      },
      "execution_count": null,
      "outputs": [
        {
          "output_type": "execute_result",
          "data": {
            "text/plain": [
              "((100000, 139, 4), (100000,))"
            ]
          },
          "metadata": {},
          "execution_count": 7
        }
      ]
    },
    {
      "cell_type": "markdown",
      "source": [
        " # Feature Engineering\n",
        "In this cell, additional particle features are calculated using particle physics formulas.\n",
        "\n",
        "pt, rapidity, and phi are extracted as basic kinematic features.\n",
        "\n",
        "pdgids represent the particle ID according to the Particle Data Group (PDG).\n",
        "\n",
        "mass is determined using the PDG data, only for particles with valid IDs.\n",
        "\n",
        "The following derived features are computed:\n",
        "\n",
        "Transverse Mass (mt) using the formula:\n",
        "𝑚\n",
        "𝑡\n",
        "=\n",
        "𝑚\n",
        "2\n",
        "+\n",
        "𝑝\n",
        "𝑡\n",
        "2\n",
        "m\n",
        "t\n",
        "​\n",
        " =\n",
        "m\n",
        "2\n",
        " +p\n",
        "t\n",
        "2\n",
        "​\n",
        "\n",
        "​\n",
        "\n",
        "\n",
        "Energy (E) using the formula:\n",
        "𝐸\n",
        "=\n",
        "𝑚\n",
        "⋅\n",
        "cosh\n",
        "⁡\n",
        "(\n",
        "𝑦\n",
        ")\n",
        "E=m⋅cosh(y)\n",
        "\n",
        "Momentum Components (px, py, pz) using:\n",
        "𝑝\n",
        "𝑥\n",
        "=\n",
        "𝑝\n",
        "𝑡\n",
        "⋅\n",
        "cos\n",
        "⁡\n",
        "(\n",
        "𝜙\n",
        ")\n",
        ",\n",
        "𝑝\n",
        "𝑦\n",
        "=\n",
        "𝑝\n",
        "𝑡\n",
        "⋅\n",
        "sin\n",
        "⁡\n",
        "(\n",
        "𝜙\n",
        ")\n",
        ",\n",
        "𝑝\n",
        "𝑧\n",
        "=\n",
        "𝑚\n",
        "𝑡\n",
        "⋅\n",
        "sinh\n",
        "⁡\n",
        "(\n",
        "𝑦\n",
        ")\n",
        "p\n",
        "x\n",
        "​\n",
        " =p\n",
        "t\n",
        "​\n",
        " ⋅cos(ϕ),p\n",
        "y\n",
        "​\n",
        " =p\n",
        "t\n",
        "​\n",
        " ⋅sin(ϕ),p\n",
        "z\n",
        "​\n",
        " =m\n",
        "t\n",
        "​\n",
        " ⋅sinh(y)\n",
        "\n",
        "Finally, the engineered features are returned as a PyTorch tensor."
      ],
      "metadata": {
        "id": "UCQThJe206xF"
      }
    },
    {
      "cell_type": "code",
      "source": [
        "def feature_engineer_dataset(X):\n",
        "\n",
        "    # unpack all features\n",
        "    pt = X[:,:,0]\n",
        "    rapidity = X[:,:,1]\n",
        "    phi = X[:,:,2]\n",
        "    pdgids = X[:,:,3]\n",
        "\n",
        "    # Calculate new feature values\n",
        "    nonzero_pdgids = np.where(pdgids > 0)\n",
        "    mass = np.zeros(pdgids.shape)\n",
        "    mass_nonzeros = np.vectorize(Particle.from_pdgid)(pdgids[nonzero_pdgids])\n",
        "    mass[nonzero_pdgids] = np.fromiter((i.mass for i in mass_nonzeros), float)\n",
        "\n",
        "    mt = np.sqrt(np.square(mass) + np.square(pt))\n",
        "    energy = mass*np.cosh(rapidity)\n",
        "    px = pt*np.cos(phi)\n",
        "    py = pt*np.sin(phi)\n",
        "    pz = mt*np.sinh(rapidity)\n",
        "\n",
        "    return torch.tensor(np.stack((pt, rapidity, phi, mt, energy, px, py, pz), axis=2), dtype=torch.float)"
      ],
      "metadata": {
        "id": "k2msZkzCqSaK"
      },
      "execution_count": null,
      "outputs": []
    },
    {
      "cell_type": "code",
      "source": [
        "X_new = feature_engineer_dataset(X)\n",
        "X_new.shape, X_new.type()"
      ],
      "metadata": {
        "colab": {
          "base_uri": "https://localhost:8080/"
        },
        "id": "52mq2HINqYbX",
        "outputId": "31953241-0bc0-4383-dbde-264ba4de6728"
      },
      "execution_count": null,
      "outputs": [
        {
          "output_type": "execute_result",
          "data": {
            "text/plain": [
              "(torch.Size([100000, 139, 8]), 'torch.FloatTensor')"
            ]
          },
          "metadata": {},
          "execution_count": 9
        }
      ]
    },
    {
      "cell_type": "code",
      "source": [
        "torch.amax(X_new, dim=(0,1))"
      ],
      "metadata": {
        "colab": {
          "base_uri": "https://localhost:8080/"
        },
        "id": "8_NC6WuUqdVr",
        "outputId": "19dcab6a-d04f-4ce0-b7c1-ddbdc9cbe1b6"
      },
      "execution_count": null,
      "outputs": [
        {
          "output_type": "execute_result",
          "data": {
            "text/plain": [
              "tensor([5.4849e+02, 2.2004e+00, 6.7172e+00, 1.0556e+03, 3.7837e+03, 5.0324e+02,\n",
              "        5.2501e+02, 3.6537e+03])"
            ]
          },
          "metadata": {},
          "execution_count": 10
        }
      ]
    },
    {
      "cell_type": "code",
      "source": [
        "X_norm = X_new / torch.amax(X_new, dim=(0,1))\n",
        "# fetch the maximum value for all feature (in last dimension) and normalize the dataset through max scaling."
      ],
      "metadata": {
        "id": "YWAiRcpnqqlB"
      },
      "execution_count": null,
      "outputs": []
    },
    {
      "cell_type": "code",
      "source": [
        "np.set_printoptions(suppress=True,precision=4)\n",
        "X_norm[0,:,0], X_new[0,:,0]"
      ],
      "metadata": {
        "colab": {
          "base_uri": "https://localhost:8080/"
        },
        "id": "V6B84tuGqwrm",
        "outputId": "f1c25d09-7b7e-4753-f079-d2a65b8a1c27"
      },
      "execution_count": null,
      "outputs": [
        {
          "output_type": "execute_result",
          "data": {
            "text/plain": [
              "(tensor([4.9001e-04, 2.9185e-04, 2.0943e-03, 7.5326e-03, 3.0921e-03, 3.9995e-03,\n",
              "         2.9519e-03, 1.2019e-02, 6.8751e-03, 2.4579e-02, 7.4895e-03, 3.9464e-02,\n",
              "         1.2353e-02, 2.4166e-02, 5.4395e-03, 6.8140e-02, 6.1149e-01, 8.0609e-02,\n",
              "         0.0000e+00, 0.0000e+00, 0.0000e+00, 0.0000e+00, 0.0000e+00, 0.0000e+00,\n",
              "         0.0000e+00, 0.0000e+00, 0.0000e+00, 0.0000e+00, 0.0000e+00, 0.0000e+00,\n",
              "         0.0000e+00, 0.0000e+00, 0.0000e+00, 0.0000e+00, 0.0000e+00, 0.0000e+00,\n",
              "         0.0000e+00, 0.0000e+00, 0.0000e+00, 0.0000e+00, 0.0000e+00, 0.0000e+00,\n",
              "         0.0000e+00, 0.0000e+00, 0.0000e+00, 0.0000e+00, 0.0000e+00, 0.0000e+00,\n",
              "         0.0000e+00, 0.0000e+00, 0.0000e+00, 0.0000e+00, 0.0000e+00, 0.0000e+00,\n",
              "         0.0000e+00, 0.0000e+00, 0.0000e+00, 0.0000e+00, 0.0000e+00, 0.0000e+00,\n",
              "         0.0000e+00, 0.0000e+00, 0.0000e+00, 0.0000e+00, 0.0000e+00, 0.0000e+00,\n",
              "         0.0000e+00, 0.0000e+00, 0.0000e+00, 0.0000e+00, 0.0000e+00, 0.0000e+00,\n",
              "         0.0000e+00, 0.0000e+00, 0.0000e+00, 0.0000e+00, 0.0000e+00, 0.0000e+00,\n",
              "         0.0000e+00, 0.0000e+00, 0.0000e+00, 0.0000e+00, 0.0000e+00, 0.0000e+00,\n",
              "         0.0000e+00, 0.0000e+00, 0.0000e+00, 0.0000e+00, 0.0000e+00, 0.0000e+00,\n",
              "         0.0000e+00, 0.0000e+00, 0.0000e+00, 0.0000e+00, 0.0000e+00, 0.0000e+00,\n",
              "         0.0000e+00, 0.0000e+00, 0.0000e+00, 0.0000e+00, 0.0000e+00, 0.0000e+00,\n",
              "         0.0000e+00, 0.0000e+00, 0.0000e+00, 0.0000e+00, 0.0000e+00, 0.0000e+00,\n",
              "         0.0000e+00, 0.0000e+00, 0.0000e+00, 0.0000e+00, 0.0000e+00, 0.0000e+00,\n",
              "         0.0000e+00, 0.0000e+00, 0.0000e+00, 0.0000e+00, 0.0000e+00, 0.0000e+00,\n",
              "         0.0000e+00, 0.0000e+00, 0.0000e+00, 0.0000e+00, 0.0000e+00, 0.0000e+00,\n",
              "         0.0000e+00, 0.0000e+00, 0.0000e+00, 0.0000e+00, 0.0000e+00, 0.0000e+00,\n",
              "         0.0000e+00, 0.0000e+00, 0.0000e+00, 0.0000e+00, 0.0000e+00, 0.0000e+00,\n",
              "         0.0000e+00]),\n",
              " tensor([2.6877e-01, 1.6008e-01, 1.1487e+00, 4.1316e+00, 1.6960e+00, 2.1937e+00,\n",
              "         1.6191e+00, 6.5921e+00, 3.7710e+00, 1.3482e+01, 4.1079e+00, 2.1646e+01,\n",
              "         6.7755e+00, 1.3255e+01, 2.9835e+00, 3.7374e+01, 3.3540e+02, 4.4214e+01,\n",
              "         0.0000e+00, 0.0000e+00, 0.0000e+00, 0.0000e+00, 0.0000e+00, 0.0000e+00,\n",
              "         0.0000e+00, 0.0000e+00, 0.0000e+00, 0.0000e+00, 0.0000e+00, 0.0000e+00,\n",
              "         0.0000e+00, 0.0000e+00, 0.0000e+00, 0.0000e+00, 0.0000e+00, 0.0000e+00,\n",
              "         0.0000e+00, 0.0000e+00, 0.0000e+00, 0.0000e+00, 0.0000e+00, 0.0000e+00,\n",
              "         0.0000e+00, 0.0000e+00, 0.0000e+00, 0.0000e+00, 0.0000e+00, 0.0000e+00,\n",
              "         0.0000e+00, 0.0000e+00, 0.0000e+00, 0.0000e+00, 0.0000e+00, 0.0000e+00,\n",
              "         0.0000e+00, 0.0000e+00, 0.0000e+00, 0.0000e+00, 0.0000e+00, 0.0000e+00,\n",
              "         0.0000e+00, 0.0000e+00, 0.0000e+00, 0.0000e+00, 0.0000e+00, 0.0000e+00,\n",
              "         0.0000e+00, 0.0000e+00, 0.0000e+00, 0.0000e+00, 0.0000e+00, 0.0000e+00,\n",
              "         0.0000e+00, 0.0000e+00, 0.0000e+00, 0.0000e+00, 0.0000e+00, 0.0000e+00,\n",
              "         0.0000e+00, 0.0000e+00, 0.0000e+00, 0.0000e+00, 0.0000e+00, 0.0000e+00,\n",
              "         0.0000e+00, 0.0000e+00, 0.0000e+00, 0.0000e+00, 0.0000e+00, 0.0000e+00,\n",
              "         0.0000e+00, 0.0000e+00, 0.0000e+00, 0.0000e+00, 0.0000e+00, 0.0000e+00,\n",
              "         0.0000e+00, 0.0000e+00, 0.0000e+00, 0.0000e+00, 0.0000e+00, 0.0000e+00,\n",
              "         0.0000e+00, 0.0000e+00, 0.0000e+00, 0.0000e+00, 0.0000e+00, 0.0000e+00,\n",
              "         0.0000e+00, 0.0000e+00, 0.0000e+00, 0.0000e+00, 0.0000e+00, 0.0000e+00,\n",
              "         0.0000e+00, 0.0000e+00, 0.0000e+00, 0.0000e+00, 0.0000e+00, 0.0000e+00,\n",
              "         0.0000e+00, 0.0000e+00, 0.0000e+00, 0.0000e+00, 0.0000e+00, 0.0000e+00,\n",
              "         0.0000e+00, 0.0000e+00, 0.0000e+00, 0.0000e+00, 0.0000e+00, 0.0000e+00,\n",
              "         0.0000e+00, 0.0000e+00, 0.0000e+00, 0.0000e+00, 0.0000e+00, 0.0000e+00,\n",
              "         0.0000e+00]))"
            ]
          },
          "metadata": {},
          "execution_count": 12
        }
      ]
    },
    {
      "cell_type": "code",
      "source": [
        "n = X_norm[0].shape[0]\n",
        "pt = X_norm[0,:,0]\n",
        "plt.plot(range(n), pt)\n",
        "plt.xlabel('Particle')\n",
        "plt.ylabel('$P_{T,\\\\alpha}$')\n",
        "plt.title('Transverse momentum of particles in first jet')\n",
        "plt.show()"
      ],
      "metadata": {
        "colab": {
          "base_uri": "https://localhost:8080/",
          "height": 472
        },
        "id": "n6bxnT9uq6w0",
        "outputId": "ec5e3482-99be-44a1-aa1b-a9d92b80be65"
      },
      "execution_count": null,
      "outputs": [
        {
          "output_type": "display_data",
          "data": {
            "text/plain": [
              "<Figure size 640x480 with 1 Axes>"
            ],
            "image/png": "[encoded data removed]"
          },
          "metadata": {}
        }
      ]
    },
    {
      "cell_type": "markdown",
      "source": [
        "# Removing Unnecessary Particles\n",
        "Since there are a lot of zeros in each jet (due to zero padding), we will remove the unnecessary particles form the dataset. Moreover, GNNs can handle graph data with different number of nodes, hence this will not cause any problems with training the GNN later"
      ],
      "metadata": {
        "id": "1EnNyApb3rQj"
      }
    },
    {
      "cell_type": "code",
      "source": [
        "def strip_zeros(X):\n",
        "    X_useful = []\n",
        "    for Xi in X:\n",
        "        inds = np.where(Xi[:,0] != 0)\n",
        "        X_useful.append(Xi[inds])\n",
        "\n",
        "    return X_useful"
      ],
      "metadata": {
        "id": "VbkAq3Fqq-TS"
      },
      "execution_count": null,
      "outputs": []
    },
    {
      "cell_type": "code",
      "source": [
        "X_preprocessed = strip_zeros(X_norm)\n",
        "len(X_preprocessed), X_preprocessed[0].shape, X_preprocessed[1].shape"
      ],
      "metadata": {
        "colab": {
          "base_uri": "https://localhost:8080/"
        },
        "id": "JbSslOC_rDQG",
        "outputId": "03036001-71e7-447a-b0f4-3f06c98f295c"
      },
      "execution_count": null,
      "outputs": [
        {
          "output_type": "execute_result",
          "data": {
            "text/plain": [
              "(100000, torch.Size([18, 8]), torch.Size([17, 8]))"
            ]
          },
          "metadata": {},
          "execution_count": 15
        }
      ]
    },
    {
      "cell_type": "code",
      "source": [
        "n = X_preprocessed[0].shape[0]\n",
        "pt = X_preprocessed[0][:,0]\n",
        "plt.plot(range(n), pt)\n",
        "plt.xlabel('Particle')\n",
        "plt.ylabel('$P_{T,\\\\alpha}$')\n",
        "plt.title('Transverse momentum of particles in first jet')\n",
        "plt.show()"
      ],
      "metadata": {
        "colab": {
          "base_uri": "https://localhost:8080/",
          "height": 472
        },
        "id": "2T935_MwrGIb",
        "outputId": "91035afc-c0f8-47fb-87ea-ef17eda45226"
      },
      "execution_count": null,
      "outputs": [
        {
          "output_type": "display_data",
          "data": {
            "text/plain": [
              "<Figure size 640x480 with 1 Axes>"
            ],
            "image/png": "[encoded data removed]"
          },
          "metadata": {}
        }
      ]
    },
    {
      "cell_type": "code",
      "source": [
        "X_preprocessed[0].dtype"
      ],
      "metadata": {
        "colab": {
          "base_uri": "https://localhost:8080/"
        },
        "id": "i6Cqu4P-rKGO",
        "outputId": "07962d48-baba-4ab7-e8b6-1c73f4c54882"
      },
      "execution_count": null,
      "outputs": [
        {
          "output_type": "execute_result",
          "data": {
            "text/plain": [
              "torch.float32"
            ]
          },
          "metadata": {},
          "execution_count": 17
        }
      ]
    },
    {
      "cell_type": "code",
      "source": [
        "np.set_printoptions(suppress=False)"
      ],
      "metadata": {
        "id": "R8O2B-ZMrRpE"
      },
      "execution_count": null,
      "outputs": []
    },
    {
      "cell_type": "markdown",
      "source": [
        "# Conversion to Graph Model\n",
        "To convert this tabular data into a graph model, the following was considered:\n",
        "\n",
        "*  **x** - Node features\n",
        "*   **edge_index** - Edges (denoted by nodes forming the edges) of the graph of shape [2, num_edges] (COO format)\n",
        "\n",
        "*   **edge_attr** - Edge features\n",
        "*   **y** - Graph labels\n",
        "\n",
        "\n",
        "\n",
        "\n"
      ],
      "metadata": {
        "id": "oblKLbau4Gz_"
      }
    },
    {
      "cell_type": "code",
      "source": [
        "def create_graph(x):\n",
        "    M = x.shape[0]  # number of nodes in graph (particles)\n",
        "    N = min(int(np.sqrt(M))+1, M)   # number of neighbors of each node to be considered for edge connections (1 extra for self loops)\n",
        "    # (√N is considered optimal number of neighbors for k-NN on N points)\n",
        "    edge_index = torch.zeros((2,M*N))\n",
        "    edge_attr = torch.zeros((M*N, 1))\n",
        "\n",
        "    for i,features in enumerate(x):\n",
        "        # find N nearest neighbors in (𝜙,𝑦) space\n",
        "        distances = torch.sqrt((features[2] - x[:,2])**2 + (features[1] - x[:,1])**2)\n",
        "        N_nearest = np.argsort(distances)[:N]\n",
        "\n",
        "        edge_index[0][i*N:(i+1)*N] = torch.tensor([i for _ in range(N)])\n",
        "        edge_index[1][i*N:(i+1)*N] = N_nearest\n",
        "        edge_attr[i*N:(i+1)*N] = distances[N_nearest].reshape(N,1)\n",
        "\n",
        "    edge_index = edge_index.to(torch.int)\n",
        "    return edge_index, edge_attr"
      ],
      "metadata": {
        "id": "bcIY7aDSrUxD"
      },
      "execution_count": null,
      "outputs": []
    },
    {
      "cell_type": "markdown",
      "source": [
        "# Test The function"
      ],
      "metadata": {
        "id": "kyh5PKIn6Dyh"
      }
    },
    {
      "cell_type": "code",
      "source": [
        "x = torch.tensor([[0,1,2],[0,3,4],[0,7,8],[0,4.5,4.5]])\n",
        "edge_index, edge_attr = create_graph(x)\n",
        "data = Data(x=x, edge_index=edge_index, edge_attr=edge_attr,y=[0])"
      ],
      "metadata": {
        "id": "vbD2tFQSrY64"
      },
      "execution_count": null,
      "outputs": []
    },
    {
      "cell_type": "code",
      "source": [
        "g = to_networkx(data, to_undirected=False)\n",
        "nx.draw(g)"
      ],
      "metadata": {
        "colab": {
          "base_uri": "https://localhost:8080/",
          "height": 516
        },
        "id": "3NsWaNsCrfIX",
        "outputId": "ed3ac841-5818-47d8-adad-2c2c404704e3"
      },
      "execution_count": null,
      "outputs": [
        {
          "output_type": "display_data",
          "data": {
            "text/plain": [
              "<Figure size 640x480 with 1 Axes>"
            ],
            "image/png": "[encoded data removed]"
          },
          "metadata": {}
        }
      ]
    },
    {
      "cell_type": "code",
      "source": [
        "edge_index.dtype"
      ],
      "metadata": {
        "colab": {
          "base_uri": "https://localhost:8080/"
        },
        "id": "O8f5ghkjrhpt",
        "outputId": "e34df4c4-9021-4fec-c380-ffa947aad92b"
      },
      "execution_count": null,
      "outputs": [
        {
          "output_type": "execute_result",
          "data": {
            "text/plain": [
              "torch.int32"
            ]
          },
          "metadata": {},
          "execution_count": 22
        }
      ]
    },
    {
      "cell_type": "code",
      "source": [
        "def create_graph_dataset(X, y):\n",
        "    dataset = []\n",
        "\n",
        "    for Xi, yi in zip(X,y):\n",
        "\n",
        "        edge_index, edge_attr = create_graph(Xi)\n",
        "        data = Data(x=Xi, edge_index=edge_index, edge_attr=edge_attr,y=yi)\n",
        "        dataset.append(data)\n",
        "\n",
        "    return dataset\n",
        "\n",
        "dataset = create_graph_dataset(X_preprocessed,y)\n",
        "\n",
        "len(dataset), dataset[0]"
      ],
      "metadata": {
        "colab": {
          "base_uri": "https://localhost:8080/"
        },
        "id": "qGjjYNF5rnow",
        "outputId": "193dca29-72c0-4105-9610-532b1bb061e6"
      },
      "execution_count": null,
      "outputs": [
        {
          "output_type": "execute_result",
          "data": {
            "text/plain": [
              "(100000, Data(x=[18, 8], edge_index=[2, 90], edge_attr=[90, 1], y=1.0))"
            ]
          },
          "metadata": {},
          "execution_count": 23
        }
      ]
    },
    {
      "cell_type": "markdown",
      "source": [
        "# HperParameters"
      ],
      "metadata": {
        "id": "ojx1-b0u6NDm"
      }
    },
    {
      "cell_type": "code",
      "source": [
        "train_ratio = 0.6\n",
        "val_ratio = 0.2\n",
        "test_ratio = 0.2\n",
        "batch_size = 256\n",
        "\n",
        "epochs = 10\n",
        "lr = 5e-4"
      ],
      "metadata": {
        "id": "Qd0DOn1RruK6"
      },
      "execution_count": null,
      "outputs": []
    },
    {
      "cell_type": "code",
      "source": [
        "data_train, data_val, data_test = torch.utils.data.random_split(dataset, [train_ratio, val_ratio, test_ratio])\n",
        "len(data_train), len(data_val), len(data_test)"
      ],
      "metadata": {
        "colab": {
          "base_uri": "https://localhost:8080/"
        },
        "id": "aisI-WMrr7Qh",
        "outputId": "8a70bbc6-aea6-4b9d-a23d-021bd6ff4e7c"
      },
      "execution_count": null,
      "outputs": [
        {
          "output_type": "execute_result",
          "data": {
            "text/plain": [
              "(60000, 20000, 20000)"
            ]
          },
          "metadata": {},
          "execution_count": 25
        }
      ]
    },
    {
      "cell_type": "code",
      "source": [
        "train_dataloader = DataLoader(data_train, batch_size = batch_size, shuffle=True)\n",
        "val_dataloader = DataLoader(data_val,batch_size = batch_size, shuffle=True)\n",
        "test_dataloader = DataLoader(data_test,batch_size = batch_size, shuffle=True)\n",
        "\n",
        "len(train_dataloader), len(val_dataloader), len(test_dataloader)"
      ],
      "metadata": {
        "colab": {
          "base_uri": "https://localhost:8080/"
        },
        "id": "3sQknuGGr7M5",
        "outputId": "2378fbd7-7edb-4b52-d00a-c7c756df4215"
      },
      "execution_count": null,
      "outputs": [
        {
          "output_type": "execute_result",
          "data": {
            "text/plain": [
              "(235, 79, 79)"
            ]
          },
          "metadata": {},
          "execution_count": 26
        }
      ]
    },
    {
      "cell_type": "markdown",
      "source": [
        "# GCN - Graph Convolutional Network\n",
        "\n",
        "\n",
        "\n",
        "\n",
        "*   Graph convolution layer\n",
        "*   Linear layer\n",
        "*   Non-linear activation\n",
        "\n",
        "\n",
        "\n"
      ],
      "metadata": {
        "id": "JFhrl5VV6eTJ"
      }
    },
    {
      "cell_type": "code",
      "source": [
        "class GNN(torch.nn.Module):\n",
        "    def __init__(self, input_dim, hidden_dims, output_dim, activ_fn):\n",
        "        super().__init__()\n",
        "        layers = []\n",
        "        layers.append(GCNConv(input_dim, hidden_dims[0]))\n",
        "\n",
        "        for i in range(len(hidden_dims)-1):\n",
        "            layers.append(GCNConv(hidden_dims[i], hidden_dims[i+1]))\n",
        "\n",
        "        self.layers = ModuleList(layers)\n",
        "        self.activ_fn = activ_fn\n",
        "        self.dropout = Dropout()\n",
        "        self.classifier = Linear(hidden_dims[-1], output_dim)\n",
        "\n",
        "    def forward(self, x, edge_index, batch):\n",
        "        h = x\n",
        "        for i in range(len(self.layers)):\n",
        "            h = self.layers[i](h, edge_index)\n",
        "            h = self.activ_fn(h)\n",
        "\n",
        "        h = global_mean_pool(h, batch)   # readout layer to get the embedding for each graph in batch\n",
        "        h = self.dropout(h)\n",
        "        h = self.classifier(h)\n",
        "        return h"
      ],
      "metadata": {
        "id": "uzlT3BHor7KU"
      },
      "execution_count": null,
      "outputs": []
    },
    {
      "cell_type": "code",
      "source": [
        "model = GNN(input_dim = dataset[0].num_node_features, hidden_dims=[16,16,8],output_dim=1, activ_fn=ReLU())\n",
        "model"
      ],
      "metadata": {
        "colab": {
          "base_uri": "https://localhost:8080/"
        },
        "id": "yTQP4bCxskVz",
        "outputId": "ad0d67e4-8326-40d9-9433-95d02a2ec87b"
      },
      "execution_count": null,
      "outputs": [
        {
          "output_type": "execute_result",
          "data": {
            "text/plain": [
              "GNN(\n",
              "  (layers): ModuleList(\n",
              "    (0): GCNConv(8, 16)\n",
              "    (1): GCNConv(16, 16)\n",
              "    (2): GCNConv(16, 8)\n",
              "  )\n",
              "  (activ_fn): ReLU()\n",
              "  (dropout): Dropout(p=0.5, inplace=False)\n",
              "  (classifier): Linear(in_features=8, out_features=1, bias=True)\n",
              ")"
            ]
          },
          "metadata": {},
          "execution_count": 28
        }
      ]
    },
    {
      "cell_type": "code",
      "source": [
        "def run_model(model, epoch, loader, lossFn, optimizer, train=True):\n",
        "    if train:\n",
        "        model.train()\n",
        "    else:\n",
        "        model.eval()\n",
        "\n",
        "    loss = 0\n",
        "    net_loss = 0\n",
        "    correct = 0\n",
        "\n",
        "    for batch_idx, data in (tqdm(enumerate(loader)) if train else enumerate(loader)):\n",
        "\n",
        "        target = data.y\n",
        "\n",
        "        #This will zero out the gradients for this batch.\n",
        "        optimizer.zero_grad()\n",
        "\n",
        "        #Run the model on the train data\n",
        "        output = model(data.x, data.edge_index.type(torch.int64), data.batch)\n",
        "\n",
        "        target = target.unsqueeze(1).float()\n",
        "\n",
        "        # Calculate the loss\n",
        "        loss = lossFn(output, target)\n",
        "        net_loss += loss.data * batch_size\n",
        "\n",
        "        if train:\n",
        "            #dloss/dx for every Variable\n",
        "            loss.backward()\n",
        "\n",
        "            #to do a one-step update on our parameter.\n",
        "            optimizer.step()\n",
        "\n",
        "        pred = (output > 0).float()\n",
        "        correct += (pred == target).sum()\n",
        "\n",
        "\n",
        "    acc = 100. * correct / len(loader.dataset)\n",
        "    net_loss /= len(loader.dataset)\n",
        "\n",
        "    if train:\n",
        "        print('Train', end=\" \")\n",
        "    else:\n",
        "        print(\"Val\", end=\" \")\n",
        "\n",
        "    # Print out the loss\n",
        "    print('Epoch: {} \\tLoss: {:.6f}, Accuracy: {}/{} ({:.0f}%)'.format(\n",
        "          epoch, net_loss, correct, len(loader.dataset),\n",
        "          acc))\n",
        "\n",
        "    return net_loss, acc"
      ],
      "metadata": {
        "id": "E-VLGuhTtgA9"
      },
      "execution_count": null,
      "outputs": []
    },
    {
      "cell_type": "code",
      "source": [
        "def train_model(model, optimizer, lossFn, epochs, lr, train_dataloader, val_dataloader):\n",
        "\n",
        "    history = {'train_loss': [],'val_loss':[],'train_acc': [],'val_acc': [] }\n",
        "\n",
        "    for epoch in range(epochs):\n",
        "        train_loss, train_acc = run_model(model, epoch, train_dataloader, lossFn, optimizer)\n",
        "        val_loss, val_acc = run_model(model, epoch, val_dataloader, lossFn, optimizer, train=False)\n",
        "        print()\n",
        "\n",
        "        history['train_loss'].append(train_loss)\n",
        "        history['train_acc'].append(train_acc)\n",
        "        history['val_loss'].append(val_loss)\n",
        "        history['val_acc'].append(val_acc)\n",
        "\n",
        "    return history"
      ],
      "metadata": {
        "id": "tAaaK5m3tf9f"
      },
      "execution_count": null,
      "outputs": []
    },
    {
      "cell_type": "code",
      "source": [
        "model = GNN(input_dim = dataset[0].num_node_features, hidden_dims=[16,16,8],output_dim=1, activ_fn=ReLU())\n",
        "optimizer = Adam(model.parameters(), 1e-3)\n",
        "lossFn = BCEWithLogitsLoss()\n",
        "history = train_model(model, optimizer, lossFn, epochs, lr, train_dataloader, val_dataloader)"
      ],
      "metadata": {
        "colab": {
          "base_uri": "https://localhost:8080/"
        },
        "id": "eGAky0p3tf7F",
        "outputId": "7e75a985-03a4-4ee5-dfc2-0ca6641c6cc0"
      },
      "execution_count": null,
      "outputs": [
        {
          "output_type": "stream",
          "name": "stderr",
          "text": [
            "235it [00:11, 20.62it/s]\n"
          ]
        },
        {
          "output_type": "stream",
          "name": "stdout",
          "text": [
            "Train Epoch: 0 \tLoss: 0.694963, Accuracy: 30241/60000 (50%)\n",
            "Val Epoch: 0 \tLoss: 0.700932, Accuracy: 9819/20000 (49%)\n",
            "\n"
          ]
        },
        {
          "output_type": "stream",
          "name": "stderr",
          "text": [
            "235it [00:11, 20.93it/s]\n"
          ]
        },
        {
          "output_type": "stream",
          "name": "stdout",
          "text": [
            "Train Epoch: 1 \tLoss: 0.693438, Accuracy: 30942/60000 (52%)\n",
            "Val Epoch: 1 \tLoss: 0.696398, Accuracy: 11320/20000 (57%)\n",
            "\n"
          ]
        },
        {
          "output_type": "stream",
          "name": "stderr",
          "text": [
            "235it [00:11, 21.26it/s]\n"
          ]
        },
        {
          "output_type": "stream",
          "name": "stdout",
          "text": [
            "Train Epoch: 2 \tLoss: 0.682941, Accuracy: 33824/60000 (56%)\n",
            "Val Epoch: 2 \tLoss: 0.671982, Accuracy: 13606/20000 (68%)\n",
            "\n"
          ]
        },
        {
          "output_type": "stream",
          "name": "stderr",
          "text": [
            "235it [00:11, 20.88it/s]\n"
          ]
        },
        {
          "output_type": "stream",
          "name": "stdout",
          "text": [
            "Train Epoch: 3 \tLoss: 0.645899, Accuracy: 38710/60000 (65%)\n",
            "Val Epoch: 3 \tLoss: 0.610317, Accuracy: 14870/20000 (74%)\n",
            "\n"
          ]
        },
        {
          "output_type": "stream",
          "name": "stderr",
          "text": [
            "235it [00:11, 20.22it/s]\n"
          ]
        },
        {
          "output_type": "stream",
          "name": "stdout",
          "text": [
            "Train Epoch: 4 \tLoss: 0.603367, Accuracy: 41978/60000 (70%)\n",
            "Val Epoch: 4 \tLoss: 0.565989, Accuracy: 15186/20000 (76%)\n",
            "\n"
          ]
        },
        {
          "output_type": "stream",
          "name": "stderr",
          "text": [
            "235it [00:11, 20.90it/s]\n"
          ]
        },
        {
          "output_type": "stream",
          "name": "stdout",
          "text": [
            "Train Epoch: 5 \tLoss: 0.584962, Accuracy: 42866/60000 (71%)\n",
            "Val Epoch: 5 \tLoss: 0.553307, Accuracy: 15227/20000 (76%)\n",
            "\n"
          ]
        },
        {
          "output_type": "stream",
          "name": "stderr",
          "text": [
            "235it [00:11, 21.27it/s]\n"
          ]
        },
        {
          "output_type": "stream",
          "name": "stdout",
          "text": [
            "Train Epoch: 6 \tLoss: 0.576881, Accuracy: 43348/60000 (72%)\n",
            "Val Epoch: 6 \tLoss: 0.543973, Accuracy: 15239/20000 (76%)\n",
            "\n"
          ]
        },
        {
          "output_type": "stream",
          "name": "stderr",
          "text": [
            "235it [00:11, 20.84it/s]\n"
          ]
        },
        {
          "output_type": "stream",
          "name": "stdout",
          "text": [
            "Train Epoch: 7 \tLoss: 0.575800, Accuracy: 43472/60000 (72%)\n",
            "Val Epoch: 7 \tLoss: 0.537935, Accuracy: 15362/20000 (77%)\n",
            "\n"
          ]
        },
        {
          "output_type": "stream",
          "name": "stderr",
          "text": [
            "235it [00:11, 20.51it/s]\n"
          ]
        },
        {
          "output_type": "stream",
          "name": "stdout",
          "text": [
            "Train Epoch: 8 \tLoss: 0.568146, Accuracy: 43584/60000 (73%)\n",
            "Val Epoch: 8 \tLoss: 0.534029, Accuracy: 15390/20000 (77%)\n",
            "\n"
          ]
        },
        {
          "output_type": "stream",
          "name": "stderr",
          "text": [
            "235it [00:11, 20.49it/s]\n"
          ]
        },
        {
          "output_type": "stream",
          "name": "stdout",
          "text": [
            "Train Epoch: 9 \tLoss: 0.569545, Accuracy: 43584/60000 (73%)\n",
            "Val Epoch: 9 \tLoss: 0.533072, Accuracy: 15377/20000 (77%)\n",
            "\n"
          ]
        }
      ]
    },
    {
      "cell_type": "code",
      "source": [
        "x = range(epochs)\n",
        "plt.plot(x, history['train_loss'], label='Train loss')\n",
        "plt.plot(x, history['val_loss'], label='Val loss')\n",
        "plt.plot(x, np.array(history['train_acc'])/100, label='Train accuracy')\n",
        "plt.plot(x, np.array(history['val_acc'])/100, label='Val accuracy')\n",
        "\n",
        "plt.legend()\n",
        "plt.show()"
      ],
      "metadata": {
        "colab": {
          "base_uri": "https://localhost:8080/",
          "height": 430
        },
        "id": "nYEtZG_Ktf22",
        "outputId": "e9b3660f-5b8b-4245-b6c9-f8ae7d90ad0c"
      },
      "execution_count": null,
      "outputs": [
        {
          "output_type": "display_data",
          "data": {
            "text/plain": [
              "<Figure size 640x480 with 1 Axes>"
            ],
            "image/png": "[encoded data removed]"
          },
          "metadata": {}
        }
      ]
    },
    {
      "cell_type": "markdown",
      "source": [
        "# Test accuracy"
      ],
      "metadata": {
        "id": "tgilumvQ7Lob"
      }
    },
    {
      "cell_type": "code",
      "source": [
        "preds = []\n",
        "labels = []\n",
        "acc = 0\n",
        "for data in test_dataloader:\n",
        "\n",
        "    target = data.y\n",
        "    labels += target\n",
        "\n",
        "    output = model(data.x, data.edge_index, data.batch)\n",
        "    probs = Sigmoid()(output).detach()\n",
        "    preds += copy.deepcopy(probs)\n",
        "\n",
        "    target = target.unsqueeze(1).float()\n",
        "    pred = (output > 0).float()\n",
        "    acc += (pred == target).sum()\n",
        "\n",
        "acc = 100. * acc / len(test_dataloader.dataset)\n",
        "print(acc)"
      ],
      "metadata": {
        "colab": {
          "base_uri": "https://localhost:8080/"
        },
        "id": "oGB7uLSLtfme",
        "outputId": "dd4648e6-c805-4cd3-9804-415f5f06a783"
      },
      "execution_count": null,
      "outputs": [
        {
          "output_type": "stream",
          "name": "stdout",
          "text": [
            "tensor(76.3200)\n"
          ]
        }
      ]
    },
    {
      "cell_type": "markdown",
      "source": [
        "# GNN_Sage\n"
      ],
      "metadata": {
        "id": "Gfi9kenF7THn"
      }
    },
    {
      "cell_type": "code",
      "source": [
        "class GNN_Sage(torch.nn.Module):\n",
        "    def __init__(self, input_dim, hidden_dims, output_dim, activ_fn):\n",
        "        super().__init__()\n",
        "        layers = []\n",
        "        layers.append(SAGEConv(input_dim, hidden_dims[0]))\n",
        "\n",
        "        for i in range(len(hidden_dims)-1):\n",
        "            layers.append(SAGEConv(hidden_dims[i], hidden_dims[i+1]))\n",
        "\n",
        "        self.layers = ModuleList(layers)\n",
        "        self.activ_fn = activ_fn\n",
        "        self.dropout = Dropout()\n",
        "        self.classifier = Linear(hidden_dims[-1], output_dim)\n",
        "\n",
        "    def forward(self, x, edge_index, batch):\n",
        "        h = x\n",
        "        for i in range(len(self.layers)):\n",
        "            h = self.layers[i](h, edge_index)\n",
        "            h = self.activ_fn(h)\n",
        "\n",
        "        h = global_mean_pool(h, batch)   # readout layer to get the embedding for each graph in batch\n",
        "        h = self.dropout(h)\n",
        "        h = self.classifier(h)\n",
        "        return h\n",
        "model = GNN_Sage(input_dim = dataset[0].num_node_features, hidden_dims=[16,16,8],output_dim=1, activ_fn=ReLU())\n",
        "model"
      ],
      "metadata": {
        "colab": {
          "base_uri": "https://localhost:8080/"
        },
        "id": "i3TzRHeryLJj",
        "outputId": "fff9abc1-308c-4058-d990-4a2b24ecd467"
      },
      "execution_count": null,
      "outputs": [
        {
          "output_type": "execute_result",
          "data": {
            "text/plain": [
              "GNN_Sage(\n",
              "  (layers): ModuleList(\n",
              "    (0): SAGEConv(8, 16, aggr=mean)\n",
              "    (1): SAGEConv(16, 16, aggr=mean)\n",
              "    (2): SAGEConv(16, 8, aggr=mean)\n",
              "  )\n",
              "  (activ_fn): ReLU()\n",
              "  (dropout): Dropout(p=0.5, inplace=False)\n",
              "  (classifier): Linear(in_features=8, out_features=1, bias=True)\n",
              ")"
            ]
          },
          "metadata": {},
          "execution_count": 34
        }
      ]
    },
    {
      "cell_type": "code",
      "source": [
        "optimizer = Adam(model.parameters(), lr=1e-3, weight_decay=1e-12)\n",
        "lossFn = BCEWithLogitsLoss()\n",
        "history = train_model(model, optimizer, lossFn, epochs, lr, train_dataloader, val_dataloader)"
      ],
      "metadata": {
        "colab": {
          "base_uri": "https://localhost:8080/"
        },
        "id": "Y4zbW9xDymJv",
        "outputId": "cd5413b9-20b2-47a6-838e-f50fe11c7239"
      },
      "execution_count": null,
      "outputs": [
        {
          "output_type": "stream",
          "name": "stderr",
          "text": [
            "235it [00:08, 28.56it/s]\n"
          ]
        },
        {
          "output_type": "stream",
          "name": "stdout",
          "text": [
            "Train Epoch: 0 \tLoss: 0.692142, Accuracy: 31167/60000 (52%)\n",
            "Val Epoch: 0 \tLoss: 0.683136, Accuracy: 12228/20000 (61%)\n",
            "\n"
          ]
        },
        {
          "output_type": "stream",
          "name": "stderr",
          "text": [
            "235it [00:08, 27.72it/s]\n"
          ]
        },
        {
          "output_type": "stream",
          "name": "stdout",
          "text": [
            "Train Epoch: 1 \tLoss: 0.619804, Accuracy: 39449/60000 (66%)\n",
            "Val Epoch: 1 \tLoss: 0.542403, Accuracy: 15446/20000 (77%)\n",
            "\n"
          ]
        },
        {
          "output_type": "stream",
          "name": "stderr",
          "text": [
            "235it [00:08, 29.26it/s]\n"
          ]
        },
        {
          "output_type": "stream",
          "name": "stdout",
          "text": [
            "Train Epoch: 2 \tLoss: 0.565490, Accuracy: 43382/60000 (72%)\n",
            "Val Epoch: 2 \tLoss: 0.524921, Accuracy: 15471/20000 (77%)\n",
            "\n"
          ]
        },
        {
          "output_type": "stream",
          "name": "stderr",
          "text": [
            "235it [00:08, 27.02it/s]\n"
          ]
        },
        {
          "output_type": "stream",
          "name": "stdout",
          "text": [
            "Train Epoch: 3 \tLoss: 0.557762, Accuracy: 44107/60000 (74%)\n",
            "Val Epoch: 3 \tLoss: 0.516977, Accuracy: 15543/20000 (78%)\n",
            "\n"
          ]
        },
        {
          "output_type": "stream",
          "name": "stderr",
          "text": [
            "235it [00:07, 29.47it/s]\n"
          ]
        },
        {
          "output_type": "stream",
          "name": "stdout",
          "text": [
            "Train Epoch: 4 \tLoss: 0.558820, Accuracy: 44112/60000 (74%)\n",
            "Val Epoch: 4 \tLoss: 0.517411, Accuracy: 15530/20000 (78%)\n",
            "\n"
          ]
        },
        {
          "output_type": "stream",
          "name": "stderr",
          "text": [
            "235it [00:07, 30.24it/s]\n"
          ]
        },
        {
          "output_type": "stream",
          "name": "stdout",
          "text": [
            "Train Epoch: 5 \tLoss: 0.554399, Accuracy: 44209/60000 (74%)\n",
            "Val Epoch: 5 \tLoss: 0.514495, Accuracy: 15469/20000 (77%)\n",
            "\n"
          ]
        },
        {
          "output_type": "stream",
          "name": "stderr",
          "text": [
            "235it [00:07, 31.24it/s]\n"
          ]
        },
        {
          "output_type": "stream",
          "name": "stdout",
          "text": [
            "Train Epoch: 6 \tLoss: 0.559159, Accuracy: 44025/60000 (73%)\n",
            "Val Epoch: 6 \tLoss: 0.516421, Accuracy: 15433/20000 (77%)\n",
            "\n"
          ]
        },
        {
          "output_type": "stream",
          "name": "stderr",
          "text": [
            "235it [00:07, 29.97it/s]\n"
          ]
        },
        {
          "output_type": "stream",
          "name": "stdout",
          "text": [
            "Train Epoch: 7 \tLoss: 0.555038, Accuracy: 44257/60000 (74%)\n",
            "Val Epoch: 7 \tLoss: 0.514097, Accuracy: 15466/20000 (77%)\n",
            "\n"
          ]
        },
        {
          "output_type": "stream",
          "name": "stderr",
          "text": [
            "235it [00:07, 29.42it/s]\n"
          ]
        },
        {
          "output_type": "stream",
          "name": "stdout",
          "text": [
            "Train Epoch: 8 \tLoss: 0.550923, Accuracy: 44385/60000 (74%)\n",
            "Val Epoch: 8 \tLoss: 0.516299, Accuracy: 15501/20000 (78%)\n",
            "\n"
          ]
        },
        {
          "output_type": "stream",
          "name": "stderr",
          "text": [
            "235it [00:08, 28.74it/s]\n"
          ]
        },
        {
          "output_type": "stream",
          "name": "stdout",
          "text": [
            "Train Epoch: 9 \tLoss: 0.552544, Accuracy: 44242/60000 (74%)\n",
            "Val Epoch: 9 \tLoss: 0.512553, Accuracy: 15490/20000 (77%)\n",
            "\n"
          ]
        }
      ]
    },
    {
      "cell_type": "code",
      "source": [
        "x = range(epochs)\n",
        "plt.plot(x, history['train_loss'], label='Train loss')\n",
        "plt.plot(x, history['val_loss'], label='Val loss')\n",
        "plt.plot(x, np.array(history['train_acc'])/100, label='Train accuracy')\n",
        "plt.plot(x, np.array(history['val_acc'])/100, label='Val accuracy')\n",
        "\n",
        "plt.legend()\n",
        "plt.show()"
      ],
      "metadata": {
        "colab": {
          "base_uri": "https://localhost:8080/",
          "height": 430
        },
        "id": "1SexbQ1DysfG",
        "outputId": "9e460548-43e5-4b55-be21-6a1335d700c1"
      },
      "execution_count": null,
      "outputs": [
        {
          "output_type": "display_data",
          "data": {
            "text/plain": [
              "<Figure size 640x480 with 1 Axes>"
            ],
            "image/png": "[encoded data removed]"
          },
          "metadata": {}
        }
      ]
    },
    {
      "cell_type": "markdown",
      "source": [
        "# Test accuracy"
      ],
      "metadata": {
        "id": "N-_YIIBh7oZ7"
      }
    },
    {
      "cell_type": "code",
      "source": [
        "preds = []\n",
        "labels = []\n",
        "acc = 0\n",
        "for data in test_dataloader:\n",
        "\n",
        "    target = data.y\n",
        "    labels += target\n",
        "\n",
        "    output = model(data.x, data.edge_index.type(torch.int64), data.batch)\n",
        "    probs = Sigmoid()(output).detach()\n",
        "    preds += copy.deepcopy(probs)\n",
        "\n",
        "    target = target.unsqueeze(1).float()\n",
        "    pred = (output > 0).float()\n",
        "    acc += (pred == target).sum()\n",
        "\n",
        "acc = 100. * acc / len(test_dataloader.dataset)\n",
        "print(acc)"
      ],
      "metadata": {
        "colab": {
          "base_uri": "https://localhost:8080/"
        },
        "id": "5qiRF84dy0Qn",
        "outputId": "a876612f-727f-47b0-e66b-a47b11e76942"
      },
      "execution_count": null,
      "outputs": [
        {
          "output_type": "stream",
          "name": "stdout",
          "text": [
            "tensor(77.6100)\n"
          ]
        }
      ]
    },
    {
      "cell_type": "markdown",
      "source": [
        "# Discuss the resulting performance of the 2 chosen architectures.\n",
        " Accuracy of GCN came out to be 76 % and\n",
        " Accuracy of GSAGE is 77 %\n",
        "\n",
        " There is not much difference in the accuracy of these two\n",
        ""
      ],
      "metadata": {
        "id": "W2HbDBEczWkH"
      }
    },
    {
      "cell_type": "code",
      "source": [],
      "metadata": {
        "id": "aYS_BybQzK5L"
      },
      "execution_count": null,
      "outputs": []
    }
  ]
}